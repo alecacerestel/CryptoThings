{
 "cells": [
  {
   "cell_type": "markdown",
   "metadata": {
    "id": "9wdch1clqQxD"
   },
   "source": [
    "# Tarea 3 - Cifrado Moderno II\n",
    "### TEL252 - Criptografía y Seguridad de la Información\n",
    "#### _2do Semestre, 2023_\n",
    "#### _Docente y Autor : Berioska Contreras Vargas - berioska.contreras@usm.cl_"
   ]
  },
  {
   "cell_type": "markdown",
   "metadata": {},
   "source": [
    "### Nombre:\n",
    "- Alejandro Cáceres\n",
    "- Enrique Escalona\n",
    "- Javier Martínez\n",
    "- Benjamín Ramirez"
   ]
  },
  {
   "cell_type": "markdown",
   "metadata": {
    "id": "zr9-gKQXqQxG"
   },
   "source": [
    "* Polinomios: Pueden ser representados como una lista de coeficientes. Mediante las bibliotecas de Numpy podemos crear y modificar polinomios utilizando la clase Polynomials.  \n",
    "ref: https://www.numpy.org.cn/en/reference/routines/polynomials.html"
   ]
  },
  {
   "cell_type": "code",
   "execution_count": null,
   "metadata": {
    "id": "GisxdBCcqQxG",
    "tags": []
   },
   "outputs": [],
   "source": [
    "import numpy as np  \n",
    "import numpy.polynomial as gf  \n",
    "grado = 3\n",
    "gf.Polynomial.basis(grado)"
   ]
  },
  {
   "cell_type": "markdown",
   "metadata": {
    "id": "Js82iRhHqQxH"
   },
   "source": [
    "* Coeficientes : Un polinomio es tratado como una serie de potencias finitas. Por lo tanto, la serie es representada en un arreglo unidimensional basado en los coeficientes del polinomio. Cada serie es ordenada ascendentemente o de menor a mayor."
   ]
  },
  {
   "cell_type": "code",
   "execution_count": null,
   "metadata": {
    "id": "bX4AyzhqqQxH",
    "tags": []
   },
   "outputs": [],
   "source": [
    "import numpy as np  \n",
    "from numpy.polynomial import Polynomial as gf \n",
    "cf = [0,0,1]\n",
    "Ax = gf.degree(cf)\n",
    "mypoly = gf(cf)\n",
    "print(type(mypoly))\n",
    "print(mypoly.coef, mypoly.domain, mypoly.window)\n",
    "print ('grado:', Ax)\n",
    "\n",
    "z = gf.basis(deg=Ax, domain=[0,1], window=[0,1]) #"
   ]
  },
  {
   "cell_type": "markdown",
   "metadata": {
    "id": "POLTVnA-qQxI"
   },
   "source": [
    "* Adición: Un polinomio permite representar un conjunto finito de enteros y por lo tanto, acepta operaciones finitas."
   ]
  },
  {
   "cell_type": "code",
   "execution_count": null,
   "metadata": {
    "id": "MsMo2SrbqQxI",
    "tags": []
   },
   "outputs": [],
   "source": [
    "import numpy as np  \n",
    "from numpy.polynomial import Polynomial as gf \n",
    "ca = [1,1,1]\n",
    "cb = [1,1,0,1]\n",
    "pa = gf(ca)\n",
    "pb = gf(cb)\n",
    "pa + pb\n",
    "\n"
   ]
  },
  {
   "cell_type": "markdown",
   "metadata": {
    "id": "zGWD6U7cqQxI"
   },
   "source": [
    "* Multiplicación: Un campo $GF(x)$ es un conjunto finito de números que permite distintas operacionesa aritméticas."
   ]
  },
  {
   "cell_type": "code",
   "execution_count": 2,
   "metadata": {
    "id": "IImG4A2EqQxJ",
    "tags": []
   },
   "outputs": [
    {
     "data": {
      "text/latex": [
       "$x \\mapsto \\text{1.0} + \\text{1.0}\\,x + \\text{2.0}\\,x^{2} + \\text{1.0}\\,x^{3} + \\text{1.0}\\,x^{4}$"
      ],
      "text/plain": [
       "Polynomial([1., 1., 2., 1., 1.], domain=[-1.,  1.], window=[-1.,  1.])"
      ]
     },
     "execution_count": 2,
     "metadata": {},
     "output_type": "execute_result"
    }
   ],
   "source": [
    "import numpy as np  \n",
    "from numpy.polynomial import Polynomial as gf \n",
    "ca = [1,1,1]\n",
    "cb = np.flip([1,0,1])\n",
    "pa = gf(ca)\n",
    "pb = gf(cb)\n",
    "pa * pb "
   ]
  },
  {
   "cell_type": "markdown",
   "metadata": {
    "id": "zkZVZFTfqQxJ"
   },
   "source": [
    "* Aritmética Modular: Las operaciones suma, resta y multiplicación se realizan en conjuntos, y todas las condiciones en $GF(x)$ son satisfechas para la adición y multiplicación como expresión modular."
   ]
  },
  {
   "cell_type": "code",
   "execution_count": null,
   "metadata": {
    "id": "VCcdtINyqQxJ",
    "tags": []
   },
   "outputs": [],
   "source": [
    "import numpy as np\n",
    "from numpy.polynomial import Polynomial as gf \n",
    "def mymod(a,b):\n",
    "    return ((a + b) % 2)\n",
    "ff0 = [0,0,0]\n",
    "ff1 = [1,1,1]\n",
    "ff2 = [1,1,1]\n",
    "a, b = gf(ff0, domain=[0,1]), gf(ff1,domain=[0,1])\n",
    "c = gf(ff2, domain=[0,1])\n",
    "vfunc = np.vectorize(mymod)\n",
    "print((a + b), '==', vfunc(ff0,ff1))\n",
    "print((b + c), '<>', vfunc(ff1,ff2))"
   ]
  },
  {
   "cell_type": "markdown",
   "metadata": {
    "id": "sJYLbam7qQxK"
   },
   "source": [
    "* Multiplicación en Campos Extendidos: Para cada número primo $p$ y entero positivo $n$, existe un $GF(x)$ de orden $p^n$, y su grupo multiplicativo es cíclico de orden $p^{(n-1)}$. Luego, necesitamos reducir polinomio para el orden dado."
   ]
  },
  {
   "cell_type": "code",
   "execution_count": 36,
   "metadata": {
    "id": "UPRr8A67qQxK",
    "outputId": "40fd724b-2df0-40db-a67d-fb314333bd11",
    "tags": []
   },
   "outputs": [
    {
     "name": "stdout",
     "output_type": "stream",
     "text": [
      "1.0 + 1.0 x**1 + 0.0 x**2 + 1.0 x**3 + 1.0 x**4\n",
      "1.0 + 1.0 x**1 + 0.0 x**2 + 1.0 x**3\n",
      "1.0 + 1.0 x**1\n"
     ]
    }
   ],
   "source": [
    "import numpy as np\n",
    "from numpy.polynomial import Polynomial as gf\n",
    "x= gf([0,0,0], domain=[0,1], window=[0,1])\n",
    "Ax= gf([1,1,1], domain=[0,1], window=[0,1])\n",
    "Bx= gf([1,0,1], domain=[0,1], window=[0,1])\n",
    "Cx= gf._get_coefficients(x,(Ax*Bx)) % 2 # Producto\n",
    "print(gf(Cx))\n",
    "Zx= gf.cutdeg(gf(Cx, domain=[0,1], window=[0,1]), deg=3) #Divisor\n",
    "print(gf(Zx))\n",
    "Qx= gf._get_coefficients(x,(Cx//Zx)) % 2 # Cociente\n",
    "print(gf(Qx))"
   ]
  },
  {
   "cell_type": "markdown",
   "metadata": {
    "id": "fIpRSmJuqQxL"
   },
   "source": [
    "* Inverso Multiplicativo: Si $mcd(a,b) = 1$, los enteros $a$ y $b$ son coprimos. Este mismo principio aritmético se utiliza para los polinomios."
   ]
  },
  {
   "cell_type": "code",
   "execution_count": null,
   "metadata": {
    "id": "aMVOCRqCqQxL",
    "tags": []
   },
   "outputs": [],
   "source": [
    "import numpy as np\n",
    "from numpy.polynomial import Polynomial as gf\n",
    "x= gf([0,0,0,0,0], domain=[0,1], window=[0,1])\n",
    "# x^2 \n",
    "Q= gf([0,0,1,0,0], domain=[0,1], window=[0,1]) \n",
    "# x^3 + x^2 + 1\n",
    "cQ= gf([1,0,1,1,0], domain=[0,1], window=[0,1]) \n",
    "# x^4+x+1\n",
    "R= gf([1,1,0,0,1], domain=[0,1], window=[0,1]) \n",
    "# x + 1\n",
    "cR= gf([1,1,0,0,0], domain=[0,1], window=[0,1])\n",
    "iQ = gf._get_coefficients(x,(cQ*Q)) % 2 \n",
    "iR = gf._get_coefficients(x,(cR*R)) % 2 \n",
    "print((iQ + iR) % 2)\n",
    "iRQ = gf._get_coefficients(x,(iQ+iR)) % 2 \n",
    "gf(iRQ)\n"
   ]
  },
  {
   "cell_type": "markdown",
   "metadata": {
    "id": "2NEIj159qQxM"
   },
   "source": [
    "* Caso - Dada la interceptación de un fragmento de texto plano y flujo cifrado mediante un generador LFSR, deducir el vector de inicialización."
   ]
  },
  {
   "cell_type": "code",
   "execution_count": null,
   "metadata": {
    "id": "-ffDMA0DqQxM",
    "outputId": "a8fe6c30-5241-4db9-fd4f-e59e6711768f"
   },
   "outputs": [],
   "source": [
    "import numpy as np\n",
    "import math\n",
    "def rowOperation(iv,m):\n",
    "    s3 = np.flip(cts[0][0:m])\n",
    "    s4, s5 = np.array([0,1,0]), np.array([1,0,1])\n",
    "    ml, mr = np.matrix([s3,s4,s5]), np.matrix([[0],[1],[1]])  \n",
    "    mi = ml.I # matriz inversa\n",
    "    if np.matrix.sum((ml*(mi*mr)-mr)) == 0:\n",
    "        return mi * ml, mr\n",
    "    \n",
    "pt= [1,0,0,1,0,0,1,0,0,1,1,0,1,1,0,1,1,0,0,1,0,0,1,0,0,1,1,0]\n",
    "pta= np.reshape(pt,(7,4)) #pta\n",
    "ct= [1,0,1,1,1,1,0,0,0,0,1,1,0,0,0,1,0,0,1,0,1,0,1,1,0,0,0,1]\n",
    "cta= np.reshape(ct,(7,4)) #cta\n",
    "out= []\n",
    "for i in range(0,7):\n",
    "     out= np.append(out,np.bitwise_xor(pta[i],cta[i]))\n",
    "cts= np.array(np.reshape(out,(4,7)), dtype=int)\n",
    "#print(cts)\n",
    "if math.log2(((2**3)-1)+1) == 3: m=3\n",
    "echelon, coef = rowOperation(cts,m)\n",
    "print(echelon)\n",
    "#print(np.flip(coef.T))"
   ]
  },
  {
   "cell_type": "markdown",
   "metadata": {
    "id": "usFCtsn6qQxM"
   },
   "source": [
    "**Actividad 1**: Dado el orden $GF(2^3)$ y el polinomio $x^3 + x +1$, construya de manera programática la tabla multiplicativa adjunta. Considere que, para todo valor de $i, j \\in \\{1, 2, 3, 4, 5, 6, 7\\}$ correspondientes a los índices de la matriz $m$, se cumple, por ejemplo, la siguiente operación:  \n",
    "\\begin{equation*}\n",
    "m[4][3] = 4 \\cdot 3 = \\{100\\} \\cdot \\{011\\} = x^2 \\cdot (x + 1) = x^3 + x^2 = (x + 1) + x^2 = x^2 + x + 1 = \\{111\\} = 7\n",
    "\\end{equation*}"
   ]
  },
  {
   "cell_type": "code",
   "execution_count": null,
   "metadata": {
    "id": "581lrrKUqQxN",
    "outputId": "d849d9c1-5970-4bdc-8f74-74823ee37f4f"
   },
   "outputs": [],
   "source": [
    "import numpy as np\n",
    "m = np.matrix([[1, 2, 3, 4, 5, 6, 7],\n",
    "               [2, 4, 6, 3, 1, 7, 5],\n",
    "               [3, 6, 5, 7, 4, 1, 2],\n",
    "               [4, 3, 7, 6, 2, 5, 1],\n",
    "               [5, 1, 4, 2, 7, 3, 6],\n",
    "               [6, 7, 1, 5, 3, 2, 4],\n",
    "               [7, 5, 2, 1, 6, 4, 3],])\n",
    "m"
   ]
  },
  {
   "cell_type": "code",
   "execution_count": 8,
   "metadata": {
    "id": "ilA3DUYKqQxN"
   },
   "outputs": [
    {
     "data": {
      "text/plain": [
       "array([[1., 2., 3., 4., 5., 6., 7.],\n",
       "       [2., 4., 6., 3., 1., 7., 5.],\n",
       "       [3., 6., 5., 7., 4., 1., 2.],\n",
       "       [4., 3., 7., 6., 2., 5., 1.],\n",
       "       [5., 1., 4., 2., 7., 3., 6.],\n",
       "       [6., 7., 1., 5., 3., 2., 4.],\n",
       "       [7., 5., 2., 1., 6., 4., 3.]])"
      ]
     },
     "execution_count": 8,
     "metadata": {},
     "output_type": "execute_result"
    }
   ],
   "source": [
    "import numpy as np\n",
    "from numpy.polynomial import Polynomial as gf\n",
    "div = gf([1,1,0,1] , domain=[0,1], window=[0,1]) # polinomio divisor\n",
    "x= gf([0,0,0], domain=[0,1], window=[0,1])\n",
    "matrix = np.zeros((7,7))\n",
    "for i in range(1,8):\n",
    "    list_i = [int(bit) for bit in bin(i)[2:]]\n",
    "    list_i = list_i[::-1] # trasnformar indice i a binario\n",
    "    i_pol = gf(list_i, domain=[0,1], window=[0,1])\n",
    "    for j in range(1,8):\n",
    "        list_j = [int(bit) for bit in bin(j)[2:]]\n",
    "        list_j = list_j[::-1] # trasnformar indice j a binario\n",
    "        j_pol = gf(list_j, domain=[0,1], window=[0,1])\n",
    "        Cx= gf._get_coefficients(x,(j_pol*i_pol)) % 2 # Producto\n",
    "        Cx_pol = gf(Cx,domain=[0,1],window=[0,1])\n",
    "        coef = gf._get_coefficients(x,(Cx_pol%div)) % 2\n",
    "        value = 0\n",
    "        cont = 0\n",
    "        for bits in coef:\n",
    "            value += (2**cont)*bits\n",
    "            cont += 1\n",
    "        matrix[i-1][j-1]=int(value)\n",
    "matrix"
   ]
  },
  {
   "cell_type": "markdown",
   "metadata": {
    "id": "cB8rDet7qQxN"
   },
   "source": [
    "* Bits y Bytes: Desde la distribución de Python v3 es posible utilizar el tipo de dato bytes(). Este tipo de datos representa un secuencia de valores en el rango desde 0 hasta 255 (8 bits) que son almacenados de manera inalterable. "
   ]
  },
  {
   "cell_type": "code",
   "execution_count": null,
   "metadata": {
    "id": "3kCbv-YfqQxO"
   },
   "outputs": [],
   "source": [
    "#bits\n",
    "mybyte1 = int('11001000',2)\n",
    "mybyte2 = int('00001000',2)\n",
    "print(mybyte2 ^ mybyte1)  # a xor a\n",
    "print(mybyte2 or mybyte1) # a or a\n",
    "print(mybyte2 and mybyte1)  # a and a\n",
    "#bytes\n",
    "mybyte3 = bytes(4) #inmutable  -> help(bytes)\n",
    "print(mybyte3)\n",
    "myarray = [mybyte3[i] for i in mybyte3]\n",
    "print (myarray)    \n",
    "print (type(myarray))"
   ]
  },
  {
   "cell_type": "markdown",
   "metadata": {
    "id": "j9S90NovqQxO"
   },
   "source": [
    "* ByteArray: Complementariamente a bytes() está el tipo de datos bytearray() que sí crea un objeto alterable. La representación de los datos puede cambiar de acuerdo al sistema. Por ejemplo, el orden de los bytes cambia según el formato Endian, los valores más grandes primero (big endian), si no los pequeños primero (little endian). Otro ejemplo, sabemos que un byte no necesita ser firmado (unsigned) para representar datos en el rango positivo entre 0 y 255. Sin embargo, si fuese necesario representar valores en el rango -128 hasta +127, los bytes deben ser firmados (signed) para soportar un recorrido negativo. Ref.: https://docs.python.org/3/library/stdtypes.html"
   ]
  },
  {
   "cell_type": "code",
   "execution_count": null,
   "metadata": {
    "id": "-9BxrjtnqQxO"
   },
   "outputs": [],
   "source": [
    "#bloques\n",
    "mybytestream = [255,255,255,255] \n",
    "myblock = bytearray(mybytestream)\n",
    "print(myblock[:2],'y',myblock[-2:])\n",
    "print(bytearray(str(myblock),'utf-8'))\n",
    "\n",
    "#formato\n",
    "k = bytes([128,192,240,255])\n",
    "print(k[1:2] , '=', bytes(k[1:2]))\n",
    "ki = int.from_bytes(k[1:2], byteorder='big', signed=False)\n",
    "kj = int.from_bytes(k[1:2], byteorder='little', signed=True)\n",
    "print(ki, '!=', kj)"
   ]
  },
  {
   "cell_type": "markdown",
   "metadata": {
    "id": "SopO1yJsqQxO"
   },
   "source": [
    "* Cifrado de Bloques : Sabemos que AES opera en bytes y que utiliza múltiples tamaños de llave, así como un número variable de ciclos e incluso soporta múltiples bloques desde 128bits hasta 256bits. Sin embargo, qué sucede cuando el bloque tiende a ser pequeño? analice los eventuales riesgos del siguiente ejemplo."
   ]
  },
  {
   "cell_type": "code",
   "execution_count": null,
   "metadata": {
    "id": "yXRMDsv_qQxP"
   },
   "outputs": [],
   "source": [
    "import numpy as np\n",
    "import string\n",
    "def funcionF(a,b):\n",
    "    K = np.array([1,1,0,0,1,1,0,0])\n",
    "    X = ((a + b) % 2) ^ K   \n",
    "    return X \n",
    "def funcionR(a,b):\n",
    "    A_str = ''.join(str(x) for x in a)\n",
    "    B_str = ''.join(str(x) for x in b)\n",
    "    return (int(A_str,2),int(B_str,2))\n",
    "M = '1111000011111111'\n",
    "bloques = [M[i:i+8] for i in range(0,len(M),8)]\n",
    "bloqueA = np.array(list(f'{int(bloques[0],2):b}'), dtype=int)\n",
    "bloqueB = np.array(list(f'{int(bloques[1],2):b}'), dtype=int)\n",
    "print(bloqueA, 'y', bloqueB)\n",
    "print(funcionR(bloqueA,bloqueB))\n",
    "A, B = (bloqueA ^ funcionF(bloqueA,bloqueB)), (bloqueB ^ funcionF(bloqueA,bloqueB))\n",
    "print(funcionR(A,B))\n",
    "C1, C2 = (A ^ funcionF(A,B)), (B ^ funcionF(A,B))\n",
    "print(funcionR(C1,C2))"
   ]
  },
  {
   "cell_type": "markdown",
   "metadata": {
    "id": "YYYd-v0MqQxP"
   },
   "source": [
    "* Doble Cifrado: Si la debilidad del algoritmo DES recae en la longitud de llave, entonces un doble cifrado qué más seguro podría ser? analice el siguiente código."
   ]
  },
  {
   "cell_type": "code",
   "execution_count": null,
   "metadata": {
    "id": "UtWPFdPKqQxP"
   },
   "outputs": [],
   "source": [
    "def funcionW(m):\n",
    "    B = [bin(M[i]) for i in range(len(M))]\n",
    "    T = [B[i][2:] for i in range(len(B))]\n",
    "    return T\n",
    "def funcionQ(k):\n",
    "    S = [bin(k[n]) for n in range(len(k))]\n",
    "    V = [S[n][2:] for n in range(len(S))]\n",
    "    return V\n",
    "def funcionE(x,y,z):\n",
    "    return ((x ^ y)^z)\n",
    "K0 = bytes([254,255,254,255])  \n",
    "K1 = bytes([254,255,254,255])  \n",
    "M = bytes([128,192,240,255])\n",
    "\n",
    "MX = np.zeros((4,8),dtype=int)\n",
    "KX0, KX1 = np.zeros((4,8),dtype=int), np.zeros((4,8),dtype=int)\n",
    "for i in range(0,4):\n",
    "    for j in range (0,8):         \n",
    "        t0 = funcionW(M)[i][j:j+1]\n",
    "        t1, t2 = funcionQ(K0)[i][j:j+1], funcionQ(K1)[i][j:j+1]\n",
    "        MX[i][j] = t0\n",
    "        KX0[i][j], KX1[i][j] = t1, t2\n",
    "\n",
    "print(funcionE(MX,KX0,KX1))"
   ]
  },
  {
   "cell_type": "markdown",
   "metadata": {
    "id": "bw-KcnVJqQxP"
   },
   "source": [
    "* Perfilamiento del Tiempo: Así como el efecto avalancha intenta estimar el porcentaje de difusión de los bits permutados. El perfilamiento del tiempo intenta medir la eficiencia o el tiempo que tarda la ejecución de alguna rutina, ya sea una línea o un módulo.  \n",
    "Ref: http://pynash.org/2013/03/06/timing-and-profiling/"
   ]
  },
  {
   "cell_type": "code",
   "execution_count": null,
   "metadata": {
    "id": "ICGobrWNqQxQ"
   },
   "outputs": [],
   "source": [
    "import numpy as np\n",
    "p = [2, 3, 7, 11, 13]\n",
    "%time [x*5 for x in p] # una iteración\n",
    "%timeit -n 10 [x*5 for x in p] # múltiples iteraciones\n",
    "\n",
    "a_numpy = np.array(p)\n",
    "%time [5 * a_numpy]\n",
    "%timeit -n 10 [5 * a_numpy]\n",
    "\n",
    "r = [2, 4, 6, 8, 10]\n",
    "%time [sum(x) for x in zip(p,r)]\n",
    "\n",
    "large_a, large_b = [1,2]*10**5, [2,3]*10**5\n",
    "print(len(large_a),len(large_b))\n",
    "%time tmp = [sum(x) for x in zip(large_a, large_b)]\n",
    "print(len(tmp), tmp[:10])\n",
    "\n",
    "large_a_np = np.array(large_a)\n",
    "large_b_np = np.array(large_b)\n",
    "%time large_sum = large_a_np + large_b_np\n",
    "print(len(large_sum), large_sum[:10])"
   ]
  },
  {
   "cell_type": "markdown",
   "metadata": {
    "id": "oP66TWF4qQxQ"
   },
   "source": [
    "* Padding: En los modos de cifrado por bloques se necesita que el mensaje en texto plano tenga un valor múltiplo con respecto al tamaño del bloque, y de no ser así debemos completar el bloque para satisfacer la operación."
   ]
  },
  {
   "cell_type": "code",
   "execution_count": null,
   "metadata": {
    "id": "a3q75jwyqQxQ"
   },
   "outputs": [],
   "source": [
    "v = np.arange(1,9,1)\n",
    "mv = v.reshape((2,4))\n",
    "print(mv)\n",
    "np.pad(mv,(0,4),'constant', constant_values=(0))\n",
    "\n",
    "k = bytes([254,255]) \n",
    "mk = np.array(bytearray(k),dtype=int)\n",
    "print(mk)\n",
    "np.pad(mk,(0,4),'constant', constant_values=(0))\n",
    "#np.pad()"
   ]
  },
  {
   "cell_type": "markdown",
   "metadata": {},
   "source": [
    "#### Función HASH MD5: Las funciones HASH son irreversibles y son usadas para vertificación de integridad, y para firma digital en combinación de algoritmos de llave pública. El ejemplo siguiente utiliza la función Message Digest MD5 para proteger contraseñas. MD5 genera un resumen de longitud 128 bits y fue ampliamente utilizado en protocolos de Internet, sin embargo, es vulnerable a ataques de preimagen y colisión fuerte desde 2004, y ya no es recomendable. Esta rutina se apoya en los módulos Crypto.Hash escritos en Python. El resumen obtenido se encuentra en formato hexadecimal por conveniencia. \n",
    "\n",
    "ref.: https://github.com/Legrandin/pycryptodome/blob/master/Doc/src/hash/hash.rst\n"
   ]
  },
  {
   "cell_type": "code",
   "execution_count": null,
   "metadata": {},
   "outputs": [],
   "source": [
    "from Crypto.Hash import MD5\n",
    "import pandas as pd\n",
    "wl = pd.Series(['abc123', 'qwerty', 'password'])\n",
    "dfw = pd.DataFrame(wl, columns=['wl'])#dfw\n",
    "h = MD5.new(data=bytearray(str(dfw['wl'][0]),'utf-8')).hexdigest()\n",
    "print(dfw['wl'][0]);print(h)"
   ]
  },
  {
   "cell_type": "markdown",
   "metadata": {},
   "source": [
    "#### Fuerza Bruta : Es una táctica de seguridad ofensiva. Si un atacante compromete un dispositivo, entonces intentará recopilar los valores hash de las contraseñas disponibles. Sin conocer las contraseñas en texto claro, el atacante intentará sistemáticamente adivinar la contraseña utilizando mecanismos iterativos. La verificación puede ocurrir en interacción directa con el servicio, como indirectamente (offline) utilizando credenciales recopiladas, como los valores hash de las contraseñas. \n",
    " \n",
    "ref: https://attack.mitre.org/techniques/T1110/ "
   ]
  },
  {
   "cell_type": "code",
   "execution_count": null,
   "metadata": {},
   "outputs": [],
   "source": [
    "hl = { 'u00':   [10,'5f4dcc3b5aa765d61d8327deb882cf99','password'],\n",
    "       'u01':   [20,'29edcb86ade4e0a0dea5d2c786e4ec88','v4p0r'],       \n",
    "       'u02':   [30,'e99a18c428cb38d5f260853678922e03','abc123'],\n",
    "       'u03':   [40,'a5f28bae5741e3a5400b62010e454cba','a1re'],\n",
    "       'u04':   [50,'9ec110f58df34a0f0ade6a1fee3a2597','g4s'],\n",
    "       'u05':   [60,'4f4f37f59e0502b2aa59d232f1317e59','hum0']}\n",
    "dfh = pd.DataFrame(hl, index=['uid','md5','wrd']) #dfh\n",
    "dfh.loc[['md5'],['u02']].to_csv('hashList.txt', header=False, index=False)\n",
    "dfh.loc['wrd'].to_csv('wordList.txt', header=False, index=False)\n",
    "print(open('hashList.txt','r').read())\n",
    "print(open('wordList.txt','r').read())"
   ]
  },
  {
   "cell_type": "markdown",
   "metadata": {},
   "source": [
    "#### Password Guessing y HashCat: Un adversario puede adivinar una credencial utilizando una lista de contraseñas comúnes y sin conocimiento previo del sistema o ambiente donde residen las contraseñas. Esta técnica es riesgosa en ataques directos ya que expone las cuentas a autenticaciones fallidas y bloqueos temporales de existir políticas de seguridad activas. La herramienta HashCat fue desarrollada por Jens Steube y Gabriele Gristina. HashCat contribuye a la auditoría de seguridad para verificar la existencia de contraseñas débiles o recuperación de contraseñas. Una ventaja de HashCat es que permite el paralelismo de procesadores GPU.\n",
    "ref: https://attack.mitre.org/techniques/T1110/001/\n",
    "ref: https://hashcat.net/hashcat/\n",
    "ref: https://pypi.org/project/hashcat/"
   ]
  },
  {
   "cell_type": "code",
   "execution_count": 5,
   "metadata": {},
   "outputs": [
    {
     "name": "stdout",
     "output_type": "stream",
     "text": [
      "hashcat (v6.2.5) starting\n",
      "\n",
      "Started: Tue Oct 10 10:50:41 2023\n",
      "\n",
      "                                  \n",
      "Stopped: Tue Oct 10 10:50:41 2023\n"
     ]
    },
    {
     "name": "stderr",
     "output_type": "stream",
     "text": [
      "Already an instance C:\\Users\\berio\\AppData\\Roaming\\Python\\Python310\\site-packages\\hashcat\\hashcat\\hashcat.exe running on pid 5696\n",
      "\n"
     ]
    },
    {
     "name": "stdout",
     "output_type": "stream",
     "text": [
      "hashcat (v6.2.5) starting\n",
      "\n",
      "Started: Tue Oct 10 10:50:41 2023\n",
      "\n",
      "                                  \n",
      "Stopped: Tue Oct 10 10:50:41 2023\n",
      "\n"
     ]
    },
    {
     "name": "stderr",
     "output_type": "stream",
     "text": [
      "Already an instance C:\\Users\\berio\\AppData\\Roaming\\Python\\Python310\\site-packages\\hashcat\\hashcat\\hashcat.exe running on pid 5696\n",
      "\n"
     ]
    }
   ],
   "source": [
    "# pip install hashcat proposed by Michael Bann\n",
    "#%system hashcat -V # v5.1.*\n",
    "#%system hashcat -h\n",
    "hArg = 'hashList.txt'; wArg = 'wordList.txt'; #cArg = open('cracked.txt','w')\n",
    "!hashcat -m 0 -a 0 --potfile-disable -o cracked.txt {hArg} {wArg} \n",
    "!hashcat -m 0 -a 0 --potfile-disable -o cracked.txt 'hashList.txt' 'wordList.txt' \n",
    "print(open('cracked.txt','r').read())"
   ]
  },
  {
   "cell_type": "markdown",
   "metadata": {},
   "source": [
    "#### Modos de Operación Directo y Combinado: La herramienta HashCat soporta al menos cinco modos de ataques; directo (0), combinado (1), fuerza bruta (3), e híbridos (6 y 7). Está disponible para Windows, Linux y Unix.  El modo directo (straight) utiliza una lista simple de palabras y comprueba cada palabra como una potencial contraseña. El modo combinado (combinator) utiliza dos listas de palabras. Cada palabra de la primera lista se adjunta a cada palabra de la segunda lista."
   ]
  },
  {
   "cell_type": "code",
   "execution_count": null,
   "metadata": {},
   "outputs": [],
   "source": [
    "dff = pd.DataFrame({'tf': ['password','dragon','abc','football']}, dtype=str)\n",
    "dfm = pd.DataFrame({'tm': ['pa55w0rd', '1q2w3e4r','123']}, dtype=str)\n",
    "dff['tf'].to_csv('words1.txt', header=False, index=False)\n",
    "dfm['tm'].to_csv('words2.txt', header=False, index=False)\n",
    "#fArg = 'words1.txt'; mArg = 'words2.txt'; cArg = open('cracked.txt','w')\n",
    "!hashcat -m 0 -a 1 --potfile-disable -o cracked.txt {hArg} {fArg} {mArg}\n",
    "print(open('cracked.txt','r').read())"
   ]
  },
  {
   "cell_type": "markdown",
   "metadata": {},
   "source": [
    "#### Modos de Operación Fuerza Bruta: El modo fuerza bruta de HashCat (brute force), también referido como ataque de enmascaramiento (mask attack), es una técnica que especifíca un patrón de contraseñas, y la herramienta evalúa cada una de ellas. La siguiente es una lista de máscaras, o patrones predefinidos, y la secuencia de caracteres correspondiente:\n",
    "\n",
    "| - | - |\n",
    "|?l | abcdefghijklmnopqrstuvwxyz |\n",
    "|?u | ABCDEFGHIJKLMNOPQRSTUVWXYZ |\n",
    "|?d | 0123456789 |\n",
    "|?h | 0123456789abcdef |\n",
    "|?H | 0123456789ABCDEF |\n",
    "|?s | !\"#$%&'()*+,-./:;<=>?@[\\]^_`{|}~ |\n",
    "|?a | ?l?u?d?s |\n",
    "|?b | 0x00 - 0xff"
   ]
  },
  {
   "cell_type": "code",
   "execution_count": null,
   "metadata": {},
   "outputs": [],
   "source": [
    "# Sea una política de contraseñas: Longitud 6 caracteres, incluyendo una letra mayúscula y tres dígitos numéricos.  \n",
    "dfb = pd.DataFrame({    'p':    ['Abc123'],\n",
    "                        'md5':  ['61bd60c60d9fb60cc8fc7767669d40a1'] }, index=['users'])\n",
    "dfb.loc[['users'],['md5']].to_csv('hashList.txt', header=False, index=False)\n",
    "#hArg = 'hashList.txt'\n",
    "!hashcat -m 0 -a 3 --potfile-disable -o cracked.txt {hArg} ?u?l?l?d?d?d\n",
    "print(open('cracked.txt','r').read())"
   ]
  },
  {
   "cell_type": "markdown",
   "metadata": {},
   "source": [
    "#### Modos de Operación Híbrido I: El modo híbrido es semejante al modo de combinación (combinator), y utiliza ya sea una lista de palabras y fuerza bruta, o viceversa."
   ]
  },
  {
   "cell_type": "code",
   "execution_count": null,
   "metadata": {},
   "outputs": [],
   "source": [
    "# Sea una política de contraseñas: Longitud 9 caracteres, incluyendo caractér especial y dígitos numéricos.  \n",
    "dfb = pd.DataFrame({    'p':    ['abc123.7'],\n",
    "                        'md5':  ['4989c47c48fa56384a3d43e42b37cd2a'] }, index=['users'])\n",
    "dfb.loc[['users'],['md5']].to_csv('hashList.txt', header=False, index=False)\n",
    "#hArg = 'hashList.txt'; wArg = 'wordList.txt'\n",
    "#!hashcat -m 0 -a 6 --potfile-disable -o cracked.txt {hArg} {wArg} ?s?d\n",
    "print(open('cracked.txt','r').read())"
   ]
  },
  {
   "cell_type": "markdown",
   "metadata": {},
   "source": [
    "#### Modos de Operación Híbrido II: El modo híbrido es semejante al modo de combinación (combinator), y utiliza ya sea una lista de palabras y fuerza bruta, o viceversa."
   ]
  },
  {
   "cell_type": "code",
   "execution_count": null,
   "metadata": {},
   "outputs": [],
   "source": [
    "# Sea una política de contraseñas: Longitud 9 caracteres, incluyendo un caractér especial y dígitos numéricos.  \n",
    "dfb = pd.DataFrame({    'p':    ['7.abc123'],\n",
    "                        'md5':  ['3bf76bc988b14e0b80413fae13fd2aae'] }, index=['users'])\n",
    "dfb.loc[['users'],['md5']].to_csv('hashList.txt', header=False, index=False)\n",
    "#hArg = 'hashList.txt'; wArg = 'wordList.txt'\n",
    "#!hashcat -m 0 -a 7 --potfile-disable -o cracked.txt {hArg} ?d?s {wArg}\n",
    "print(open('cracked.txt','r').read())"
   ]
  },
  {
   "cell_type": "markdown",
   "metadata": {},
   "source": [
    "#### Reglas de HashCat: Complementariamente a los modos de operación, HashCat también soporta reglas de permutación de palabras. Las reglas mutan un listado de palabras de acuerdo a las convenciones designadas. Ejemplos: reemplazar caracteres alfabéticos por dígitos numéricos, añadir un número o caractér especial, revertir el orden de una palabra, forzar a mayúscula el primer dígito alfabético, entre otros. \n",
    "\n",
    "ref.: https://github.com/hashcat/hashcat/blob/master/rules/best64.rule"
   ]
  },
  {
   "cell_type": "code",
   "execution_count": null,
   "metadata": {},
   "outputs": [],
   "source": [
    "dfrule = pd.DataFrame({'leet': ['## leetify','so0','si1','se3','sa4']}, dtype=str)\n",
    "dfrule['leet'].to_csv('base64.rule', header=False, index=False) \n",
    "dfb = pd.DataFrame({    'p':    ['P4ssw0rd'],\n",
    "                        'md5':  ['d41e98d1eafa6d6011d3a70f1a5b92f0'] }, index=['users'])\n",
    "dfb.loc[['users'],['md5']].to_csv('hashList.txt', header=False, index=False)\n",
    "hArg = 'hashList.txt'; wArg = 'wordList.txt'; rArg ='base64.rule' \n",
    "!hashcat -m 0 -a 0 --potfile-disable {hArg} {wArg} -r {rArg}"
   ]
  },
  {
   "cell_type": "markdown",
   "metadata": {
    "id": "Yrf2oQC-qQxR"
   },
   "source": [
    "### Actividad 2: Ha ocurrido un incidente de ciberseguridad en UTFSM!. De acuerdo a las indagaciones un desconocido publicó información en el sitio 'pastebin' accesible para todo Internet. La publicación parece ser un volcado de valores hash de diversa longitud y se desconoce el sistema o servicio comprometido. Indague las funciones hash implicadas en las evidencias siguientes, y demuestre si es posible descartar el uso de contraseñas débiles.\n",
    "ref.: https://www.dailymail.co.uk/sciencetech/article-2331984/Think-strong-password-Hackers-crack-16-character-passwords-hour.html"
   ]
  },
  {
   "cell_type": "code",
   "execution_count": null,
   "metadata": {
    "id": "cT5aMieCqQxR"
   },
   "outputs": [],
   "source": [
    "# Data Breach at UTFSM by Eve.\n",
    "#cf24437db56726aa69872ea420a17063\n",
    "#d45a6b1e2c56bc6a30aa3ec2e89aa7dbfcb806d5\n",
    "#6cd989f3330f20cf9ccecc99f32830734d0f981135281e4b728febae767928b1\n",
    "#fd112fedf8ede379b9bc268a89cb686020ec874df073314f7f7cb8977da0c492de66115792b2f2c6bba48d00b531776de3804207e828affb945739bd13ec6b2c"
   ]
  },
  {
   "cell_type": "markdown",
   "metadata": {},
   "source": [
    "Lo publicado consiste en un listado de contraseñas hash, con una longitud de entre 32 y 64 caracteres. Analizando, se puede determinar que se usaron las siguientes funciones hash:\n",
    "\n",
    "* MD5: longitud de 32 caracteres.\n",
    "* SHA-1: longitud de 40 caracteres.\n",
    "* SHA-256: longitud de 64 caracteres.\n",
    "\n",
    "Para saber si se usaron contraseñas débiles, debemos analizar las funciones hash utilizadas:\n",
    "\n",
    "* MD5: función hash obsoleta que ya no se considera segura. Un ataque de fuerza bruta contra MD5 puede descifrar una contraseña de 8 caracteres en unos segundos. Dado que la entrada siempre produce la misma salida, puede ocurrir que dos archivos distintos compartan el mismo hash (colisión MD5).\n",
    "\n",
    "* SHA-1: Produce un hash de 160 bits, y al ser similar a MD5, cuando este fue vulnerado, era cuestión de tiempo para que le pasara lo mismo. De hecho, en el año 2017, se descubrió un ataque de colisión contra este algoritmo. Este ataque se puede llevar a cabo con entradas personalizadas, y no solo colisiones accidentales, lo que permite a los atacantes apuntar a ciertos archivos para duplicarlos. El algoritmo utilizado actualmente para lograr esto tiene una complejidad de 2^69. Esto hoy requiere mucho poder computacional, pero... ¿Y mañana?\n",
    "\n",
    "Los dos algoritmos anteriores ya fueron vulnerados y no es recomendado su uso.\n",
    "\n",
    "* SHA-256: ¿Es posible vulnerar SHA-256? Lograr esto, por definición, es encontrar dos mensajes m1 y m2, diferentes de tal manera que sus funciones hash sean idénticas, de esta manera: sha-256(m1) = sha-256(m2). En teoría es posible, asumiendo suficiente tiempo, dinero y, por ende, recursos de cómputo.\n",
    "\n",
    "Si consideramos que los hashes publicados son contraseñas, para los primeros dos cifrados es posible que sean contraseñas débiles, pero como estos algoritmos de encriptación ya fueron vulnerados, no tenemos la certeza, pero sabemos que ya no son seguros para proteger claves. Por otro lado, tenemos SHA-256; aunque este algoritmo no fue creado para proteger claves (rara vez tenemos una clave de más de 12 caracteres), almacenar 32 bytes como resumen de mi clave de Instagram es un desperdicio de espacio, es el equivalente a matar una mosca con un cañón. Este algoritmo fue diseñado para crear huellas resumen de ficheros muy grandes, donde el secreto no es necesario y asegurar que no se haya cambiado ni siquiera un bit.\n",
    "\n",
    "Por otro lado, SHA-256 es demasiado eficiente; una buena función hash para contraseñas debe ser \"lenta\" por diseño, lo más lenta posible mientras sea utilizable. De esa manera se asegura que no se pueda vulnerar mediante una búsqueda en diccionarios o por fuerza bruta.\n",
    "\n",
    "Es por estas razes que ni MD5, SHA-1 y SHA-256 son buenos algoritmos para guardar contraseñas de forma segura, ya que no fueron diseñados para eso. Eso implica, además, que no necesariamente las contraseñas usadas eran débiles. Podría vulnerar los dos primeros mediante fuerza bruta con mi PC (probablemente), pero para el último necesito mucho poder de cómputo, pero no es imposible."
   ]
  },
  {
   "cell_type": "markdown",
   "metadata": {},
   "source": [
    "### Fin de la Tarea!!!"
   ]
  }
 ],
 "metadata": {
  "colab": {
   "collapsed_sections": [],
   "name": "Lab3_TEL252.ipynb",
   "provenance": []
  },
  "interpreter": {
   "hash": "612467f4f7896ef7845ff770217f0844b25f3d67fe90c5d38af491ebbad4f213"
  },
  "kernelspec": {
   "display_name": "Python 3",
   "language": "python",
   "name": "python3"
  },
  "language_info": {
   "codemirror_mode": {
    "name": "ipython",
    "version": 3
   },
   "file_extension": ".py",
   "mimetype": "text/x-python",
   "name": "python",
   "nbconvert_exporter": "python",
   "pygments_lexer": "ipython3",
   "version": "3.8.10"
  }
 },
 "nbformat": 4,
 "nbformat_minor": 1
}
