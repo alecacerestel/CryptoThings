{
 "cells": [
  {
   "cell_type": "markdown",
   "metadata": {
    "id": "dYFQ9E1i71mR"
   },
   "source": [
    "# Tarea 1 - Cifrado de Sustitución\n",
    "### Asignatura: Criptografía y Seguridad de la Información - TEL252-S2-2023\n",
    "#### _Docente y Autor : Berioska Contreras Vargas - berioska.contreras@usm.cl_\n",
    "##### Resuelto por: Alejandro Cáceres - 201930032-6"
   ]
  },
  {
   "cell_type": "markdown",
   "metadata": {
    "id": "baitxYJz71mc"
   },
   "source": [
    "### Estructuras básicas:"
   ]
  },
  {
   "cell_type": "markdown",
   "metadata": {
    "id": "_4eN-rxE71me"
   },
   "source": [
    "* Lista: tipo de dato que representa una colección ordenada de elementos modificables, se declara usando `[]`"
   ]
  },
  {
   "cell_type": "code",
   "execution_count": null,
   "metadata": {
    "id": "rnxjxfGV71mf",
    "outputId": "8e3b3a08-632f-42fc-d95d-b25e35537bf1",
    "tags": []
   },
   "outputs": [],
   "source": [
    "#\n",
    "import string\n",
    "s=[\"plebiscito\",\"Abril\",\"votar\"]\n",
    "t=string.ascii_lowercase\n",
    "print(type(s))\n",
    "print(type(t))"
   ]
  },
  {
   "cell_type": "markdown",
   "metadata": {
    "id": "n__F5IZM71mi"
   },
   "source": [
    "* String: arreglo de bytes que representa una secuencia ordenada de caracteres unicode\n",
    "* Slice: función que retorna un rango de caracteres de acuerdo al índice del caracter"
   ]
  },
  {
   "cell_type": "code",
   "execution_count": null,
   "metadata": {
    "id": "kCUPxxxG71mj",
    "tags": []
   },
   "outputs": [],
   "source": [
    "print(t[:])\n",
    "print(t[0:7])\n",
    "print(t[0:25:3])\n",
    "print(t[3])\n",
    "print(t[-26:-19])"
   ]
  },
  {
   "cell_type": "markdown",
   "metadata": {
    "id": "znsn_iwq71ml"
   },
   "source": [
    "* For: Iteración sobre una secuencia dada"
   ]
  },
  {
   "cell_type": "code",
   "execution_count": null,
   "metadata": {
    "id": "jFvfCqa_71mo",
    "tags": []
   },
   "outputs": [],
   "source": [
    "if \"ñ\" not in t:\n",
    "    for i in range(len(t)):\n",
    "        print(t[i])"
   ]
  },
  {
   "cell_type": "markdown",
   "metadata": {
    "id": "YIQmbn5K71mr"
   },
   "source": [
    "* Def - function: es un bloque de código que al ser invocado puede retornar un resultado a partir de un dato de entrada"
   ]
  },
  {
   "cell_type": "code",
   "execution_count": null,
   "metadata": {
    "id": "Akcg_IuE71mt",
    "tags": []
   },
   "outputs": [],
   "source": [
    "def addNumbers(a, b):\n",
    "    return a + b\n",
    "def sendParameter(stuff):\n",
    "    stuff.append('nulo')\n",
    "z = addNumbers(2, 40)\n",
    "print(z)\n",
    "m = ['apruebo','rechazo']\n",
    "sendParameter(m)\n",
    "print(m)"
   ]
  },
  {
   "cell_type": "markdown",
   "metadata": {
    "id": "LzaVkDQJ71mu"
   },
   "source": [
    "* Tupla: tipo de dato que representa una colección ordenada e inmutable de elementos, se declara usando `()`"
   ]
  },
  {
   "cell_type": "code",
   "execution_count": null,
   "metadata": {
    "id": "UTYnQo6F71mv",
    "tags": []
   },
   "outputs": [],
   "source": [
    "if \"Abril\" in s:\n",
    "    s[1] = \"Septiembre\"\n",
    "    print(s)\n",
    "tpl = ('apruebo', 'rechazo', 'nulo')\n",
    "for i in range(len(tpl)):\n",
    "    #tpl[i] = \"blanco\"\n",
    "    print(tpl[i])\n",
    "prt = (\"izquierda\", \"derecha\", \"centro\")\n",
    "print(type(tpl))\n",
    "mushup = tpl + prt\n",
    "print (mushup)"
   ]
  },
  {
   "cell_type": "markdown",
   "metadata": {
    "id": "xR3SX-2571mw"
   },
   "source": [
    "* Set: tipo de dato que representa una colección desordenada que no tiene secuencia o índice, se declara usando `{}`"
   ]
  },
  {
   "cell_type": "code",
   "execution_count": null,
   "metadata": {
    "id": "S94224u471mx",
    "tags": []
   },
   "outputs": [],
   "source": [
    "dom = {'frecuencia', 'ocurrencia', 'probabilidad'}\n",
    "for i in range(len(dom)):\n",
    "    #print(dom[i])\n",
    "    print(dom)\n",
    "if \"ocurrencia\" in dom:\n",
    "    dom.remove(\"ocurrencia\")\n",
    "print(dom)"
   ]
  },
  {
   "cell_type": "markdown",
   "metadata": {
    "id": "NBBcobLZ71my"
   },
   "source": [
    "* Dictionary: tipo de dato que representa una colección desordenada de elementos modificables e indexados, se declara usando `{}` incluyendo valor y llave por cada elemento."
   ]
  },
  {
   "cell_type": "code",
   "execution_count": null,
   "metadata": {
    "id": "wC5Y2WEq71mz",
    "tags": []
   },
   "outputs": [],
   "source": [
    "en = {\n",
    "    'let' :   ['e','t','a','o','i','n','s','r','h','d','l','u','c','m','f','y','w','g','p','b','v','k','x','q','j','z'],\n",
    "    'occ' :   [21912, 16587, 14810, 14003, 13318, 12666, 11450, 10977, 10795, 7874, 7253, 5246, 4943, 4761, 4200, 3853, 3819, 3693, 3316, 2715, 2019, 1257, 315, 205, 188, 128],\n",
    "    'frq' :   [0.12702, 0.09056, 0.08167, 0.07507, 0.06966, 0.06749, 0.06327, 0.06094, 0.05987, 0.04253, 0.04025, 0.02782, 0.02758, 0.02406, 0.02360, 0.02228, 0.02015, 0.01974, 0.01929, 0.01492, 0.00978, 0.00772, 0.00153, 0.00150, 0.00095, 0.00074] \n",
    "}\n",
    "for k,v in en.items():\n",
    "    print (k,v)"
   ]
  },
  {
   "cell_type": "markdown",
   "metadata": {
    "id": "n7WQ5fUX71m0"
   },
   "source": [
    "**Actividad 1**: Desarrolle una rutina en Python que permita obtener el mensaje original asociado al siguiente texto cifrado. Considere que el alfabeto inglés fue utilizado en esta substitución"
   ]
  },
  {
   "cell_type": "markdown",
   "metadata": {
    "id": "gxtYeAzv71m1",
    "outputId": "0d6d7858-840a-419a-bb5d-59da82704370"
   },
   "source": [
    "|line|phrase|\n",
    "|-|-|\n",
    "|0 |\tlmq jckg yecy lmq vmowg yew vcxn smxw yect ctl myewx ikxg mukth ym kyj jyxckhey avkhey ymucxg yew jqt |\n",
    "|1 | \tyecy kj emu k uctywg mqx avkhey ym iw |\n",
    "|2 |\tcvicyxmjjwj avl mowx yew jwc ktymrkpcywg il jcvy ctg kmgktw |\n",
    "|3 |\tyewl cxw vknw qtawyywxwg ucowj fvclkth kt yew ckx iqy yewl gm tmy vmjw ymqpe ukye yew myewx ucowj |\n",
    "|4 |\tjymxnj scnw vmth bmqxtwlj ctg yewl pcjy jecgmuj mowx yew acpw ma yew jmkv |\n",
    "|5 |\tiqy vknw cvicyxmjjwj yewl avl wtgvmth xwjykth kt yew ekvvj |\n",
    "|6 |\tmtvl yew vcxn vwcfj mqy ma xqyj vknw c vkow gcxy ctg xkjwj ym iw jucvvmuwg il yew ewcowtj |\n",
    "|7 |    yewt yew akxscswty awwvj cj yemqhe yew vctg kyjwva ecj xkjwt |\n",
    "|8 |\tvcgwt bqthvwj iwvmu gm tmy ctjuwx yew vcxn |\n",
    "|9 |    smqtycktj pxqpkakwg mowx yew avcyvctgj gm tmy ctjuwx |\n",
    "|10|\tiqy c ukthwg cxxmu dqkpnvl yxkhhwxj cewcg ctg ky jkthj iwyuwwt yew jqt ctg yew wcxye |\n",
    "|11|\tmtw gmwj tmy ntmu ka yew ikxg ecj pmsw gmut axms yew jqt mx xkjwt axms yew jmkv |\n",
    "|12|\tky wrkjyj iwyuwwt yew yum vknw c avcsw |\n",
    "|13|\tuewt ky ecj jwxwtcgwg yew jnkwj ukye kyj ciqtgctpw |\n",
    "|14|\tyew acykhqwg vcxn vctgj kt yew pxmf |\n",
    "|15|\tlmq axctpkj uctywg qj ym cpekwow yecy owxykpcv avkhey ukyemqy c iwty |\n",
    "|16|\tkt mxgwx ym cxxkow cy yecy ewcowt uewxw uw pmqvg xwjy kt yew vkhey |\n",
    "|17|\tlmq uctywg yew smxtkth ckx akvvwg ukye cxxmuj ctg ukye c sqvykyqgw ma pcxwaxww vcxnj |\n",
    "|18|\taxctpkj ukye wcpe smxtkth jmth lmq kschktwg yecy c twy ma hmvgwt vcxnj avmcywg iwyuwwt yew wcxye ctg yew jnl |\n",
    "|19|\tuw cxw iqxgwtwg axctpkj |\n",
    "|20|\tuw pewxkje mqx skvg xqy mx gwswctmx |\n",
    "|21|\tuw wrcvy mqxjwvowj kt hvmxl bqjy cj yew ymuwxkth hxcjj cjfkxwj |\n",
    "|22|\tyew vmaykwjy ivcgw gmwj tmy jfct iwlmtg yew ekhe fktwj |\n",
    "|23|\tmtvl uewt uw gkw gm uw cpekwow yecy owxykpcv avkhey |\n",
    "|24|\ttwowx chckt ukyeewvg il mqx umxvgvl xqyj mx ukvv mqx imgkwj ktekiky mqx jmqvj |\n",
    "\n"
   ]
  },
  {
   "cell_type": "code",
   "execution_count": 1,
   "metadata": {
    "id": "6U2RfY7v71m3"
   },
   "outputs": [
    {
     "name": "stdout",
     "output_type": "stream",
     "text": [
      "Letra | Frecuencia\n",
      "------------------\n",
      "    w |     164\n",
      "    y |     132\n",
      "    c |     102\n",
      "    m |      90\n",
      "    k |      90\n",
      "    t |      87\n",
      "    j |      85\n",
      "    e |      83\n",
      "    x |      82\n",
      "    v |      66\n",
      "    g |      57\n",
      "    u |      42\n",
      "    q |      39\n",
      "    a |      29\n",
      "    h |      28\n",
      "    l |      24\n",
      "    i |      23\n",
      "    p |      21\n",
      "    o |      16\n",
      "    n |      16\n",
      "    s |      15\n",
      "    f |       6\n",
      "    r |       3\n",
      "    b |       3\n",
      "    d |       1\n"
     ]
    }
   ],
   "source": [
    "# ponga aquí su código y markdown\n",
    "mensajes_cifrados = [\n",
    "    \"lmq jckg yecy lmq vmowg yew vcxn smxw yect ctl myewx ikxg mukth ym kyj jyxckhey avkhey ymucxg yew jqt\",\n",
    "    \"yecy kj emu k uctywg mqx avkhey ym iw\",\n",
    "    \"cvicyxmjjwj avl mowx yew jwc ktymrkpcywg il jcvy ctg kmgktw\",\n",
    "    \"yewl cxw vknw qtawyywxwg ucowj fvclkth kt yew ckx iqy yewl gm tmy vmjw ymqpe ukye yew myewx ucowj\",\n",
    "    \"jymxnj scnw vmth bmqxtwlj ctg yewl pcjy jecgmuj mowx yew acpw ma yew jmkv\",\n",
    "    \"iqy vknw cvicyxmjjwj yewl avl wtgvmth xwjykth kt yew ekvvj\",\n",
    "    \"mtvl yew vcxn vwcfj mqy ma xqyj vknw c vkow gcxy ctg xkjwj ym iw jucvvmuwg il yew ewcowtj\",\n",
    "    \"yewt yew akxscswty awwvj cj yemqhe yew vctg kyjwva ecj xkjwt\",\n",
    "    \"vcgwt bqthvwj iwvmu gm tmy ctjuwx yew vcxn\",\n",
    "    \"smqtycktj pxqpkakwg mowx yew avcyvctgj gm tmy ctjuwx\",\n",
    "    \"iqy c ukthwg cxxmu dqkpnvl yxkhhwxj cewcg ctg ky jkthj iwyuwwt yew jqt ctg yew wcxye\",\n",
    "    \"mtw gmwj tmy ntmu ka yew ikxg ecj pmsw gmut axms yew jqt mx xkjwt axms yew jmkv\",\n",
    "    \"ky wrkjyj iwyuwwt yew yum vknw c avcsw\",\n",
    "    \"uewt ky ecj jwxwtcgwg yew jnkwj ukye kyj ciqtgctpw\",\n",
    "    \"yew acykhqwg vcxn vctgj kt yew pxmf\",\n",
    "    \"lmq axctpkj uctywg qj ym cpekwow yecy owxykpcv avkhey ukyemqy c iwty\",\n",
    "    \"kt mxgwx ym cxxkow cy yecy ewcowt uewxw uw pmqvg xwjy kt yew vkhey\",\n",
    "    \"lmq uctywg yew smxtkth ckx akvvwg ukye cxxmuj ctg ukye c sqvykyqgw ma pcxwaxww vcxnj\",\n",
    "    \"axctpkj ukye wcpe smxtkth jmth lmq kschktwg yecy c twy ma hmvgwt vcxnj avmcywg iwyuwwt yew wcxye ctg yew jnl\",\n",
    "    \"uw cxw iqxgwtwg axctpkj\",\n",
    "    \"uw pewxkje mqx skvg xqy mx gwswctmx\",\n",
    "    \"uw wrcvy mqxjwvowj kt hvmxl bqjy cj yew ymuwxkth hxcjj cjfkxwj\",\n",
    "    \"yew vmaykwjy ivcgw gmwj tmy jfct iwlmtg yew ekhe fktwj\",\n",
    "    \"mtvl uewt uw gkw gm uw cpekwow yecy owxykpcv avkhey\",\n",
    "    \"twowx chckt ukyeewvg il mqx umxvgvl xqyj mx ukvv mqx imgkwj ktekiky mqx jmqvj\"\n",
    "]\n",
    "\n",
    "letras = [] #Aqui guardamos las letras del abecedario ingles que estan en el mensaje\n",
    "contador = [] #Aqui guardamos la frecuencia de esas letras\n",
    "\n",
    "# Recorrer cada mensaje cifrado\n",
    "for mensaje_cifrado in mensajes_cifrados:\n",
    "    for i in range(len(mensaje_cifrado)):\n",
    "        if mensaje_cifrado[i] not in letras and mensaje_cifrado[i] != ' ': \n",
    "            letras.append(mensaje_cifrado[i])\n",
    "            contador.append(1)\n",
    "        else:\n",
    "            for j in range(len(letras)):\n",
    "                if letras[j] == mensaje_cifrado[i]:\n",
    "                    contador[j] += 1\n",
    "\n",
    "# Ordenar las letras y contadores en orden descendente\n",
    "letras_ordenadas = [l for _, l in sorted(zip(contador, letras), reverse=True)] #ordenamos las letras en manera descendente según sorrted\n",
    "contador_ordenado = sorted(contador, reverse=True)\n",
    "\n",
    "#Creo una tabla para que el analizis sea mpas sencillo\n",
    "print(\"Letra | Frecuencia\")\n",
    "print(\"------------------\")\n",
    "for letra, cont in zip(letras_ordenadas, contador_ordenado):\n",
    "    print(f\"{letra.rjust(5)} | {str(cont).rjust(7)}\")\n"
   ]
  },
  {
   "cell_type": "code",
   "execution_count": 6,
   "metadata": {},
   "outputs": [
    {
     "name": "stdout",
     "output_type": "stream",
     "text": [
      "you said that you loved the lark more than any other bird owing to its straight flight toward the sun\n",
      "that is how i wanted our flight to be\n",
      "albatrosses fly over the sea intoxicated by salt and iodine\n",
      "they are like unfettered waves playing in the air but they do not lose touch with the other waves\n",
      "storks make long journeys and they cast shadows over the face of the soil\n",
      "but like albatrosses they fly endlong resting in the hills\n",
      "only the lark leaps out of ruts like a live dart and rises to be swallowed by the heavens\n",
      "then the firmament feels as though the land itself has risen\n",
      "laden jungles below do not answer the lark\n",
      "mountains crucified over the flatlands do not answer\n",
      "but a winged arrow quickly triggers ahead and it sings between the sun and the earth\n",
      "one does not know if the bird has come down from the sun or risen from the soil\n",
      "it exists between the two like a flame\n",
      "when it has serenaded the skies with its abundance\n",
      "the fatigued lark lands in the crop\n",
      "you francis wanted us to achieve that vertical flight without a bent\n",
      "in order to arrive at that heaven where we could rest in the light\n",
      "you wanted the morning air filled with arrows and with a multitude of carefree larks\n",
      "francis with each morning song you imagined that a net of golden larks floated between the earth and the sky\n",
      "we are burdened francis\n",
      "we cherish our mild rut or demeanor\n",
      "we exalt ourselves in glory just as the towering grass aspires\n",
      "the loftiest blade does not span beyond the high pines\n",
      "only when we die do we achieve that vertical flight\n",
      "never again withheld by our worldly ruts or will our bodies inhibit our souls\n"
     ]
    }
   ],
   "source": [
    "#Para descifrar la key, analizamos cuáles eran las letras más repetidas, \n",
    "#las cuales fueron reemplazadas por las letras\n",
    "#más usadas en el inglés. Además, al analizar el texto inferimos qué palabras \n",
    "#podían ser conectores, como: \"in\", \"the\", \"and\" y \"that\". \n",
    "#Esto nos ayudó a descifrar la clave. \n",
    "#Aunque algunas letras fueron más difíciles de descubrir y tuvimos que usar prueba y error,\n",
    "#en lugar de utilizar algún algoritmo o análisis.\n",
    "abecedario = [\"a\", \"b\", \"c\", \"d\", \"e\", \"f\", \"g\", \"h\", \"i\", \"j\", \"k\", \"l\", \"m\", \"n\", \"o\", \"p\", \"q\", \"r\", \"s\", \"t\", \"u\", \"v\",\"w\",\"x\",\"y\",\"z\"]\n",
    "key = ['f', 'j', 'a', 'q', 'h', 'p', 'd', 'g', 'b', 's', 'i', 'y', 'o', 'k', 'v', 'c', 'u', 'x', 'm', 'n', 'w', 'l','e','r','t','l']\n",
    "\n",
    "mensajes_cifrados = [\"lmq jckg yecy lmq vmowg yew vcxn smxw yect ctl myewx ikxg mukth ym kyj jyxckhey avkhey ymucxg yew jqt\",\n",
    "    \"yecy kj emu k uctywg mqx avkhey ym iw\",\n",
    "    \"cvicyxmjjwj avl mowx yew jwc ktymrkpcywg il jcvy ctg kmgktw\",\n",
    "    \"yewl cxw vknw qtawyywxwg ucowj fvclkth kt yew ckx iqy yewl gm tmy vmjw ymqpe ukye yew myewx ucowj\",\n",
    "    \"jymxnj scnw vmth bmqxtwlj ctg yewl pcjy jecgmuj mowx yew acpw ma yew jmkv\",\n",
    "    \"iqy vknw cvicyxmjjwj yewl avl wtgvmth xwjykth kt yew ekvvj\",\n",
    "    \"mtvl yew vcxn vwcfj mqy ma xqyj vknw c vkow gcxy ctg xkjwj ym iw jucvvmuwg il yew ewcowtj\",\n",
    "    \"yewt yew akxscswty awwvj cj yemqhe yew vctg kyjwva ecj xkjwt\",\n",
    "    \"vcgwt bqthvwj iwvmu gm tmy ctjuwx yew vcxn\",\n",
    "    \"smqtycktj pxqpkakwg mowx yew avcyvctgj gm tmy ctjuwx\",\n",
    "    \"iqy c ukthwg cxxmu dqkpnvl yxkhhwxj cewcg ctg ky jkthj iwyuwwt yew jqt ctg yew wcxye\",\n",
    "    \"mtw gmwj tmy ntmu ka yew ikxg ecj pmsw gmut axms yew jqt mx xkjwt axms yew jmkv\",\n",
    "    \"ky wrkjyj iwyuwwt yew yum vknw c avcsw\",\n",
    "    \"uewt ky ecj jwxwtcgwg yew jnkwj ukye kyj ciqtgctpw\",\n",
    "    \"yew acykhqwg vcxn vctgj kt yew pxmf\",\n",
    "    \"lmq axctpkj uctywg qj ym cpekwow yecy owxykpcv avkhey ukyemqy c iwty\",\n",
    "    \"kt mxgwx ym cxxkow cy yecy ewcowt uewxw uw pmqvg xwjy kt yew vkhey\",\n",
    "    \"lmq uctywg yew smxtkth ckx akvvwg ukye cxxmuj ctg ukye c sqvykyqgw ma pcxwaxww vcxnj\",\n",
    "    \"axctpkj ukye wcpe smxtkth jmth lmq kschktwg yecy c twy ma hmvgwt vcxnj avmcywg iwyuwwt yew wcxye ctg yew jnl\",\n",
    "    \"uw cxw iqxgwtwg axctpkj\",\n",
    "    \"uw pewxkje mqx skvg xqy mx gwswctmx\",\n",
    "    \"uw wrcvy mqxjwvowj kt hvmxl bqjy cj yew ymuwxkth hxcjj cjfkxwj\",\n",
    "    \"yew vmaykwjy ivcgw gmwj tmy jfct iwlmtg yew ekhe fktwj\",\n",
    "    \"mtvl uewt uw gkw gm uw cpekwow yecy owxykpcv avkhey\",\n",
    "    \"twowx chckt ukyeewvg il mqx umxvgvl xqyj mx ukvv mqx imgkwj ktekiky mqx jmqvj\"]\n",
    "mensajes_descifrados = []#lista vacia donde estara la respuesta\n",
    "\n",
    "for mensaje_cifrado in mensajes_cifrados: #se recorre toda la lista\n",
    "    mensaje_descifrado = \"\"\n",
    "    for caracter in mensaje_cifrado:\n",
    "        if caracter == \" \": #si hay espacio simplemente se guarda un espacio\n",
    "            mensaje_descifrado += \" \"\n",
    "        elif caracter in abecedario:#en caso de que no sea un espacio se reemplaza el caracter mediante la key\n",
    "            indice = abecedario.index(caracter)\n",
    "            caracter_descifrado = key[indice]\n",
    "            mensaje_descifrado += caracter_descifrado\n",
    "        else:  #Si el caracter no es ni un espacio en blanco ni una letra del abecedario, se agrega directamente al mensaje_descifrado\n",
    "            mensaje_descifrado += caracter\n",
    "    mensajes_descifrados.append(mensaje_descifrado)\n",
    "\n",
    "for idx, mensaje in enumerate(mensajes_descifrados):\n",
    "    #se usa el for para recorrer tota la lista de mensajes_descifrados e imprimirlos\n",
    "    print(mensaje)"
   ]
  },
  {
   "cell_type": "markdown",
   "metadata": {},
   "source": [
    "El mensaje oculto corresponde al poema \"El gorrión\" de Gabriela Mistral"
   ]
  },
  {
   "cell_type": "markdown",
   "metadata": {
    "id": "BekvtfYR71m4"
   },
   "source": [
    "### Conceptos de aritmética modular:"
   ]
  },
  {
   "cell_type": "markdown",
   "metadata": {
    "id": "AQ6pcUIE71m5"
   },
   "source": [
    "* Aritmética Modular : operación matemática sobre un conjunto finito que permite un movimiento cíclico. El operador `mod` abreviado es representado en Python por el símbolo `%`."
   ]
  },
  {
   "cell_type": "code",
   "execution_count": null,
   "metadata": {
    "id": "CWtKaPcH71m6",
    "outputId": "4fee4f3f-6426-4cfa-f9d4-bbff65b2a8a5"
   },
   "outputs": [],
   "source": [
    "# Tiempo Modular\n",
    "print ((12+13) % 24)\n",
    "print ((10+200) % 12)\n",
    "#a, m = (12+20), 24\n",
    "a, m = (42), 9\n",
    "print(a%m)"
   ]
  },
  {
   "cell_type": "markdown",
   "metadata": {
    "id": "-goQ4cSt71m7"
   },
   "source": [
    "* Operación Módulo: el factor $a$ es equivalente al residuo $r$ $mod$ $m$, donde $m$ representa un conjunto finito de elementos, como 24 horas de un reloj"
   ]
  },
  {
   "cell_type": "code",
   "execution_count": null,
   "metadata": {
    "id": "0DIdvY1X71m7",
    "outputId": "a02fed62-84a4-414d-ba7a-94c16f50644f"
   },
   "outputs": [],
   "source": [
    "factor = (12+20)\n",
    "module = 24\n",
    "print(factor - (module * int(factor/module)))"
   ]
  },
  {
   "cell_type": "markdown",
   "metadata": {
    "id": "QF-7hIVr71m8"
   },
   "source": [
    "* Cálculo del Resto: cuando $r$ es cero es directo ver que el factor $a$ es equivalente al producto entre el cociente y el módulo más el resto. Al verificar distintos residuos notamos que el módulo aún es divisible. Hay múltiples restos."
   ]
  },
  {
   "cell_type": "code",
   "execution_count": null,
   "metadata": {
    "id": "nvpgdybB71m8",
    "outputId": "023376d5-b18f-49ac-bf0b-c2152c323a5d"
   },
   "outputs": [],
   "source": [
    "a=42\n",
    "m=9\n",
    "r=6\n",
    "q=((a-r)/m)\n",
    "print( r  + int(q*m)) # verificación del factor a"
   ]
  },
  {
   "cell_type": "markdown",
   "metadata": {
    "id": "XcE-TNnE71m9"
   },
   "source": [
    "* Python tiene dos operadores para la división, un símbolo `/` o _slash_ para dvisión clásica y doble `//` para división para redondear hacia abajo, hacia el entero más cercano. Divisón clásica significa que si ambos elementos son enteros, redonderá, mientas que para racionales de punto flotante, realizará un división verdedera."
   ]
  },
  {
   "cell_type": "code",
   "execution_count": null,
   "metadata": {
    "id": "8HZO3A5O71m9",
    "outputId": "e5d58ed3-e94b-4d9f-fe1a-7c3c3d8caf8c"
   },
   "outputs": [],
   "source": [
    "def check(q,m):\n",
    "    if d == q*m:\n",
    "        return bool(1)\n",
    "    else:\n",
    "        return bool(0)\n",
    "m, r = 9, 6\n",
    "d = (42-r)\n",
    "q=(d//m)\n",
    "check(q,m) # verificación de igualdad"
   ]
  },
  {
   "cell_type": "markdown",
   "metadata": {
    "id": "6KNmzJIc71m-"
   },
   "source": [
    "* Congruencia Modular - Dado que el factor a es un entero positivo, y $a$ $≡$ $r$ $mod$ $m$\n",
    "* Queremos demostrar todos los posibles valores de $r$"
   ]
  },
  {
   "cell_type": "code",
   "execution_count": null,
   "metadata": {
    "id": "gYMvERXh71m_",
    "outputId": "660d5628-5508-409d-e5a5-94c804576fdb"
   },
   "outputs": [],
   "source": [
    "def check(q,m):\n",
    "    if d == q*m:\n",
    "        return bool(1)\n",
    "    else:\n",
    "        return bool(0)\n",
    "r = [-3,3,9,15]\n",
    "m = 9\n",
    "for i in range(0,4):\n",
    "    d = (42-r[i])    \n",
    "    q = (d//m)\n",
    "    print(check(q,m)) # verificación de igualdad"
   ]
  },
  {
   "cell_type": "markdown",
   "metadata": {
    "id": "quRDIPeU71m_"
   },
   "source": [
    "* Clases de Equivalencia: Sea $m = 5$ y $a = 12$, entonces cuáles son los posibles valores de $r$?\n",
    "* Cuáles serían las clase de equivalencia de $mod$ $7$?"
   ]
  },
  {
   "cell_type": "code",
   "execution_count": null,
   "metadata": {
    "colab": {
     "base_uri": "https://localhost:8080/"
    },
    "executionInfo": {
     "elapsed": 5,
     "status": "ok",
     "timestamp": 1629981931220,
     "user": {
      "displayName": "DANIEL LEONARDO ESPINOZA",
      "photoUrl": "",
      "userId": "05410455656277436191"
     },
     "user_tz": 240
    },
    "id": "upx_3lA971nB",
    "outputId": "8e60f076-71ec-423d-f293-2aa3992f4613"
   },
   "outputs": [],
   "source": [
    "grupo = [-8,-3,2,7,12,17]\n",
    "A = []\n",
    "B = [] \n",
    "for i in range(0,5 + 1,1):\n",
    "    A.append(grupo[i])\n",
    "    B.append(grupo[i-5])\n",
    "print(A,B)"
   ]
  },
  {
   "cell_type": "markdown",
   "metadata": {
    "id": "KD1QtWja71nB"
   },
   "source": [
    "* Reducción: Por convención se seleccionan los los números positivos más pequeños. \n",
    "* La idea es reducir o factorizar para hacer más eficiente el cómputo."
   ]
  },
  {
   "cell_type": "code",
   "execution_count": null,
   "metadata": {
    "id": "UkE_inwY71nC"
   },
   "outputs": [],
   "source": [
    "# Dado que 81 = 11 * 7 + 4\n",
    "exp1 = (3**8)\n",
    "exp2 = (3**4)**2 \n",
    "print (exp1, int(exp2)) \n",
    "print (16%7)"
   ]
  },
  {
   "cell_type": "markdown",
   "metadata": {
    "id": "WHoynu9g71nU"
   },
   "source": [
    "* Homomorfismo: Sea $f$ $:$ $G → H$, un mapeo desde el grupo $G$ hacia el grupo $H$, siempre que $f$ preserve la operación de $G$."
   ]
  },
  {
   "cell_type": "code",
   "execution_count": null,
   "metadata": {
    "id": "zE7bNpYn71nV",
    "outputId": "e163d558-74b1-4d43-e194-c3a8c44790c6"
   },
   "outputs": [],
   "source": [
    "import math\n",
    "factor = 8184\n",
    "module = 13\n",
    "num1, num2 = 88, 93\n",
    "print(((num1%module)*(num2%module)%module))\n",
    "print((num1 * num2)%module)\n",
    "print(((num1%module)+(num2%module)%module))\n",
    "print((num1 + num2)%module)\n",
    "print(math.gcd(13,9))"
   ]
  },
  {
   "cell_type": "markdown",
   "metadata": {
    "id": "PIHJVa6z71na"
   },
   "source": [
    "* Máximo común divisor (MCD) y Mínimo común múltiplo (MCM)\n",
    "* Si el factor a y el módulo m son divisibles, entonces existe al menos un máximo común divisor de ambos enteros, tal que $mcd(a, m) = 1$ , $a$ $ϵ$ $Z_m$\n",
    "* Un entero no negativo $d$ es el mínimo común múltiplo de ambos  elementos $a$ y $m$,  denotado por  $d = mcm(a, m)$"
   ]
  },
  {
   "cell_type": "code",
   "execution_count": null,
   "metadata": {
    "id": "pCP8dQgG71na"
   },
   "outputs": [],
   "source": [
    "import math\n",
    "def computo_mcm(x, y):\n",
    "    \n",
    "    if x > y: \n",
    "        greater = x\n",
    "    else:\n",
    "        greater = y\n",
    "    while(True):\n",
    "        if((greater % x == 0) and (greater % y == 0)):\n",
    "            lcm = greater\n",
    "            break\n",
    "        greater += 1\n",
    "    return lcm\n",
    "num1, num2 = 88, 93\n",
    "print(\"el mcm es: \", computo_mcm(num1, num2))\n",
    "print (\"el mcd es: \", math.gcd(88,93))"
   ]
  },
  {
   "cell_type": "markdown",
   "metadata": {
    "id": "Y6-6-_ME71nb"
   },
   "source": [
    "* Algoritmo de Euclides: histórico algoritmo para encontrar los MCD de dos números enteros.\n",
    "* `import cryptomath`\n",
    "* `pip install cryptography`\n",
    "* Cryptomath Module http://inventwithpython.com/hacking (BSD Licensed)"
   ]
  },
  {
   "cell_type": "code",
   "execution_count": 1,
   "metadata": {
    "colab": {
     "base_uri": "https://localhost:8080/"
    },
    "executionInfo": {
     "elapsed": 5,
     "status": "ok",
     "timestamp": 1629998266003,
     "user": {
      "displayName": "DANIEL LEONARDO ESPINOZA",
      "photoUrl": "",
      "userId": "05410455656277436191"
     },
     "user_tz": 240
    },
    "id": "pfyDU2jS71nb",
    "outputId": "2a4c52e7-5cac-4390-8f5b-e42e65981df1"
   },
   "outputs": [
    {
     "name": "stdout",
     "output_type": "stream",
     "text": [
      "1\n",
      "(1, -4, 15)\n"
     ]
    }
   ],
   "source": [
    "def gcd(a, b):\n",
    "    while a != 0:\n",
    "        a, b = b % a, a\n",
    "    return b\n",
    "\n",
    "def eea(r0,r1):\n",
    "    if r0 == 0:\n",
    "        return (r1, 0, 1)\n",
    "    else:\n",
    "        g, s, t = eea(r1 % r0, r0)\n",
    "        return (g, t - (r1 // r0) * s, s)\n",
    "\n",
    "#r0, r1 = 56, 15\n",
    "#print(eea(r0,r1))\n",
    "\n",
    "print(gcd(56,15))\n",
    "print(eea(56,15))"
   ]
  },
  {
   "cell_type": "markdown",
   "metadata": {
    "id": "oxlJ_r_471nc"
   },
   "source": [
    "* Números Primos: Un entero positivo que puede ser dividido por sí mismo y por 1, sin resto!"
   ]
  },
  {
   "cell_type": "code",
   "execution_count": null,
   "metadata": {
    "id": "nSdXrw6p71nc",
    "outputId": "0ad833fe-206a-47dd-9b70-5a032a3d2369"
   },
   "outputs": [],
   "source": [
    "def esPrimo(num):\n",
    "    if num < 1:\n",
    "        return False\n",
    "    for i in range(2, num):\n",
    "        if (num % i) == 0:\n",
    "            return False\n",
    "    else:\n",
    "        return True\n",
    "esPrimo(8184)"
   ]
  },
  {
   "cell_type": "markdown",
   "metadata": {
    "id": "R3Nn9phB71nd"
   },
   "source": [
    "**Actividad 2**: Analice y proponga un código de cifrado por sustitución que satisfaga los requerimientos del algoritmo ROT47, explique su lógica. Luego, desarrolle un código complementario de búsqueda exhaustiva que demuestre la debilidad de ROT47, considerando la  siguiente propiedad de consistencia:\n",
    "\n",
    "<div style=\"text-align: center\"> s = ROT(ROT(s,47),47)</div>\n"
   ]
  },
  {
   "cell_type": "code",
   "execution_count": 3,
   "metadata": {
    "id": "n-bnvcWi71ne"
   },
   "outputs": [
    {
     "name": "stdout",
     "output_type": "stream",
     "text": [
      "Mensaje cifrado: 42C24@=2 >28:42\n"
     ]
    }
   ],
   "source": [
    "# ponga aquí su código y markdown\n",
    "#ROT47\n",
    "#el codigo toma una cadena de texto y recorre cada caracter imprimible\n",
    "#cambia el caracter por una que este a 47 caracteres del original,\n",
    "#osea es un cifrado por sustitución\n",
    "texto = \"caracola magica\"\n",
    "texto_encriptado = \"\"\n",
    "\n",
    "for char in texto:\n",
    "    valor_ascii = ord(char)\n",
    "    if 33 <= valor_ascii <= 126:\n",
    "        ascii_encriptado = (valor_ascii - 33 + 47) % 94 + 33\n",
    "        #esta 33 al valor numérico del carácter. \n",
    "        #Esto se hace para mover el rango de caracteres \n",
    "        #mprimibles desde 33 hasta 126 a un rango de 0 a 93.\n",
    "        #Suma 47 al valor obtenido en el paso anterior. \n",
    "        #Esto desplaza los caracteres en 47 posiciones hacia\n",
    "        #adelante en el rango de 0 a 93. Asi nos aseguramos de que este en el rango de caracteres imprimibles\n",
    "        texto_encriptado += chr(ascii_encriptado)\n",
    "    else:\n",
    "        texto_encriptado += char\n",
    "\n",
    "print(\"Mensaje cifrado:\", texto_encriptado)"
   ]
  },
  {
   "cell_type": "code",
   "execution_count": 4,
   "metadata": {},
   "outputs": [
    {
     "name": "stdout",
     "output_type": "stream",
     "text": [
      "mensaje cifrado: 42C24@=2 >28:42\n",
      "mensaje descifrado: caracola magica\n"
     ]
    }
   ],
   "source": [
    "#código demuestra la debilidad de ROT47\n",
    "#código de busqueda exhaustiva que demuestrala debilidad de ROT47\n",
    "#no es una debilidad, simplemente estoy realizando el descifrado, ya que, conozco la clave\n",
    "#simplemente estoy aplicando el mismo algoritmo al mensaje encriptado\n",
    "#para obtener el mensaje original.\n",
    "def descifrador_rot47(texto_encriptado):\n",
    "    mensaje_descifrado = \"\"\n",
    "    for char in (texto_encriptado):\n",
    "        if 33 <= ord(char) <= 126:\n",
    "            ascii_descifrado = (ord(char) - 33 - key + 94) % 94 + 33\n",
    "            mensaje_descifrado += chr(ascii_descifrado)\n",
    "        else:\n",
    "            mensaje_descifrado += char\n",
    "    return mensaje_descifrado\n",
    "\n",
    "texto_encriptado = \"42C24@=2 >28:42\"  #texto encriptado aqui\n",
    "key = 47  #ya que conocemos la llave\n",
    "\n",
    "mensaje_descifrado = descifrador_rot47(texto_encriptado)\n",
    "print(\"mensaje cifrado:\" , texto_encriptado)\n",
    "print(\"mensaje descifrado:\", mensaje_descifrado)"
   ]
  },
  {
   "cell_type": "code",
   "execution_count": 1,
   "metadata": {},
   "outputs": [
    {
     "ename": "ValueError",
     "evalue": "invalid literal for int() with base 10: ''",
     "output_type": "error",
     "traceback": [
      "\u001b[1;31m---------------------------------------------------------------------------\u001b[0m",
      "\u001b[1;31mValueError\u001b[0m                                Traceback (most recent call last)",
      "Cell \u001b[1;32mIn[1], line 16\u001b[0m\n\u001b[0;32m     13\u001b[0m     \u001b[39mreturn\u001b[39;00m plaintext\n\u001b[0;32m     15\u001b[0m ciphertext \u001b[39m=\u001b[39m \u001b[39minput\u001b[39m(\u001b[39m\"\u001b[39m\u001b[39mIngrese el mensaje cifrado: \u001b[39m\u001b[39m\"\u001b[39m)\n\u001b[1;32m---> 16\u001b[0m key \u001b[39m=\u001b[39m \u001b[39mint\u001b[39;49m(\u001b[39minput\u001b[39;49m(\u001b[39m\"\u001b[39;49m\u001b[39mIngrese la clave (número de posiciones a mover): \u001b[39;49m\u001b[39m\"\u001b[39;49m))\n\u001b[0;32m     18\u001b[0m decrypted_message \u001b[39m=\u001b[39m sustitucion_monoalfabetica(ciphertext\u001b[39m.\u001b[39mlower(), key)\n\u001b[0;32m     19\u001b[0m \u001b[39mprint\u001b[39m(\u001b[39mf\u001b[39m\u001b[39m\"\u001b[39m\u001b[39mMensaje descifrado: \u001b[39m\u001b[39m{\u001b[39;00mdecrypted_message\u001b[39m}\u001b[39;00m\u001b[39m\"\u001b[39m)\n",
      "\u001b[1;31mValueError\u001b[0m: invalid literal for int() with base 10: ''"
     ]
    }
   ],
   "source": [
    "def sustitucion_monoalfabetica(ciphertext, key):\n",
    "    abecedario = \"abcdefghijklmnopqrstuvwxyz\"\n",
    "    plaintext = \"\"\n",
    "\n",
    "    for char in ciphertext:\n",
    "        if char in abecedario:\n",
    "            index = abecedario.index(char)\n",
    "            shifted_index = (index - key) % 26\n",
    "            plaintext += abecedario[shifted_index]\n",
    "        else:\n",
    "            plaintext += char\n",
    "\n",
    "    return plaintext\n",
    "\n",
    "ciphertext = input(\"Ingrese el mensaje cifrado: \")\n",
    "key = int(input(\"Ingrese la clave (número de posiciones a mover): \"))\n",
    "\n",
    "decrypted_message = sustitucion_monoalfabetica(ciphertext.lower(), key)\n",
    "print(f\"Mensaje descifrado: {decrypted_message}\")\n"
   ]
  },
  {
   "cell_type": "code",
   "execution_count": 1,
   "metadata": {},
   "outputs": [
    {
     "ename": "ValueError",
     "evalue": "invalid literal for int() with base 10: ''",
     "output_type": "error",
     "traceback": [
      "\u001b[1;31m---------------------------------------------------------------------------\u001b[0m",
      "\u001b[1;31mValueError\u001b[0m                                Traceback (most recent call last)",
      "Cell \u001b[1;32mIn[1], line 1\u001b[0m\n\u001b[1;32m----> 1\u001b[0m base \u001b[38;5;241m=\u001b[39m \u001b[38;5;28;43mint\u001b[39;49m\u001b[43m(\u001b[49m\u001b[38;5;28;43minput\u001b[39;49m\u001b[43m(\u001b[49m\u001b[38;5;124;43m\"\u001b[39;49m\u001b[38;5;124;43mIngrese la base: \u001b[39;49m\u001b[38;5;124;43m\"\u001b[39;49m\u001b[43m)\u001b[49m\u001b[43m)\u001b[49m\n\u001b[0;32m      2\u001b[0m exponent \u001b[38;5;241m=\u001b[39m \u001b[38;5;28mint\u001b[39m(\u001b[38;5;28minput\u001b[39m(\u001b[38;5;124m\"\u001b[39m\u001b[38;5;124mIngrese el exponente: \u001b[39m\u001b[38;5;124m\"\u001b[39m))\n\u001b[0;32m      3\u001b[0m modulus \u001b[38;5;241m=\u001b[39m \u001b[38;5;28mint\u001b[39m(\u001b[38;5;28minput\u001b[39m(\u001b[38;5;124m\"\u001b[39m\u001b[38;5;124mIngrese el módulo: \u001b[39m\u001b[38;5;124m\"\u001b[39m))\n",
      "\u001b[1;31mValueError\u001b[0m: invalid literal for int() with base 10: ''"
     ]
    }
   ],
   "source": [
    "base = int(input(\"Ingrese la base: \"))\n",
    "exponent = int(input(\"Ingrese el exponente: \"))\n",
    "modulus = int(input(\"Ingrese el módulo: \"))\n",
    "\n",
    "resultado = pow(base, exponent, modulus)\n",
    "print(f\"({base}^{exponent}) % {modulus} = {resultado}\")"
   ]
  }
 ],
 "metadata": {
  "colab": {
   "collapsed_sections": [],
   "name": "Lab1_TEL252.ipynb",
   "provenance": []
  },
  "kernelspec": {
   "display_name": "Python 3",
   "language": "python",
   "name": "python3"
  },
  "language_info": {
   "codemirror_mode": {
    "name": "ipython",
    "version": 3
   },
   "file_extension": ".py",
   "mimetype": "text/x-python",
   "name": "python",
   "nbconvert_exporter": "python",
   "pygments_lexer": "ipython3",
   "version": "3.12.6"
  }
 },
 "nbformat": 4,
 "nbformat_minor": 1
}
